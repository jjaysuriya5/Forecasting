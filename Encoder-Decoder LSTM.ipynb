{
 "cells": [
  {
   "cell_type": "code",
   "execution_count": 4,
   "metadata": {},
   "outputs": [],
   "source": [
    "import warnings\n",
    "warnings.filterwarnings('ignore')"
   ]
  },
  {
   "cell_type": "code",
   "execution_count": 5,
   "metadata": {},
   "outputs": [],
   "source": [
    "import numpy as np\n",
    "from keras.models import Sequential\n",
    "from keras.layers import LSTM\n",
    "from keras.layers import Dense\n",
    "from keras.layers import RepeatVector\n",
    "from keras.layers import TimeDistributed"
   ]
  },
  {
   "cell_type": "code",
   "execution_count": 7,
   "metadata": {},
   "outputs": [
    {
     "data": {
      "text/plain": [
       "array([[0.1  , 0.001],\n",
       "       [0.2  , 0.008],\n",
       "       [0.3  , 0.027],\n",
       "       [0.4  , 0.064],\n",
       "       [0.5  , 0.125],\n",
       "       [0.6  , 0.216],\n",
       "       [0.7  , 0.343],\n",
       "       [0.8  , 0.512],\n",
       "       [0.9  , 0.729]])"
      ]
     },
     "execution_count": 7,
     "metadata": {},
     "output_type": "execute_result"
    }
   ],
   "source": [
    "timeseries = np.array([[0.1, 0.2, 0.3, 0.4, 0.5, 0.6, 0.7, 0.8, 0.9],\n",
    "                       [0.1**3, 0.2**3, 0.3**3, 0.4**3, 0.5**3, 0.6**3, 0.7**3, 0.8**3, 0.9**3]]).transpose()\n",
    "\n",
    "timesteps = timeseries.shape[0]\n",
    "n_features = timeseries.shape[1]\n",
    "timeseries"
   ]
  },
  {
   "cell_type": "code",
   "execution_count": 6,
   "metadata": {},
   "outputs": [],
   "source": [
    "def temporalize(X, y, lookback):\n",
    "    output_X = []\n",
    "    output_y = []\n",
    "    for i in range(len(X)-lookback-1):\n",
    "        t = []\n",
    "        for j in range(1,lookback+1):\n",
    "            # Gather past records upto the lookback period\n",
    "            t.append(X[[(i+j+1)], :])\n",
    "        output_X.append(t)\n",
    "        output_y.append(y[i+lookback+1])\n",
    "    return output_X, output_y"
   ]
  },
  {
   "cell_type": "code",
   "execution_count": 14,
   "metadata": {},
   "outputs": [],
   "source": [
    "timesteps = 3\n",
    "X, y = temporalize(X = timeseries, y = np.zeros(len(timeseries)), lookback = timesteps)"
   ]
  },
  {
   "cell_type": "code",
   "execution_count": 17,
   "metadata": {},
   "outputs": [],
   "source": [
    "n_features = 2\n",
    "X = np.array(X)"
   ]
  },
  {
   "cell_type": "code",
   "execution_count": 19,
   "metadata": {},
   "outputs": [],
   "source": [
    "X = X.reshape(X.shape[0], timesteps, n_features)"
   ]
  },
  {
   "cell_type": "code",
   "execution_count": 20,
   "metadata": {},
   "outputs": [
    {
     "data": {
      "text/plain": [
       "array([[[0.3  , 0.027],\n",
       "        [0.4  , 0.064],\n",
       "        [0.5  , 0.125]],\n",
       "\n",
       "       [[0.4  , 0.064],\n",
       "        [0.5  , 0.125],\n",
       "        [0.6  , 0.216]],\n",
       "\n",
       "       [[0.5  , 0.125],\n",
       "        [0.6  , 0.216],\n",
       "        [0.7  , 0.343]],\n",
       "\n",
       "       [[0.6  , 0.216],\n",
       "        [0.7  , 0.343],\n",
       "        [0.8  , 0.512]],\n",
       "\n",
       "       [[0.7  , 0.343],\n",
       "        [0.8  , 0.512],\n",
       "        [0.9  , 0.729]]])"
      ]
     },
     "execution_count": 20,
     "metadata": {},
     "output_type": "execute_result"
    }
   ],
   "source": [
    "X"
   ]
  },
  {
   "cell_type": "markdown",
   "metadata": {},
   "source": [
    "# Normal LSTM"
   ]
  },
  {
   "cell_type": "code",
   "execution_count": 21,
   "metadata": {},
   "outputs": [
    {
     "name": "stdout",
     "output_type": "stream",
     "text": [
      "WARNING:tensorflow:From C:\\Users\\Administrator\\Anaconda3\\envs\\tf\\lib\\site-packages\\tensorflow\\python\\ops\\resource_variable_ops.py:435: colocate_with (from tensorflow.python.framework.ops) is deprecated and will be removed in a future version.\n",
      "Instructions for updating:\n",
      "Colocations handled automatically by placer.\n",
      "Model: \"sequential_1\"\n",
      "_________________________________________________________________\n",
      "Layer (type)                 Output Shape              Param #   \n",
      "=================================================================\n",
      "lstm_1 (LSTM)                (None, 3, 128)            67072     \n",
      "_________________________________________________________________\n",
      "lstm_2 (LSTM)                (None, 3, 64)             49408     \n",
      "_________________________________________________________________\n",
      "lstm_3 (LSTM)                (None, 3, 64)             33024     \n",
      "_________________________________________________________________\n",
      "lstm_4 (LSTM)                (None, 3, 128)            98816     \n",
      "_________________________________________________________________\n",
      "time_distributed_1 (TimeDist (None, 3, 2)              258       \n",
      "=================================================================\n",
      "Total params: 248,578\n",
      "Trainable params: 248,578\n",
      "Non-trainable params: 0\n",
      "_________________________________________________________________\n"
     ]
    }
   ],
   "source": [
    "model = Sequential()\n",
    "model.add(LSTM(128, activation='relu', input_shape=(timesteps,n_features), return_sequences=True))\n",
    "model.add(LSTM(64, activation='relu', return_sequences=True))\n",
    "model.add(LSTM(64, activation='relu', return_sequences=True))\n",
    "model.add(LSTM(128, activation='relu', return_sequences=True))\n",
    "model.add(TimeDistributed(Dense(n_features)))\n",
    "model.compile(optimizer='adam', loss='mse')\n",
    "model.summary()"
   ]
  },
  {
   "cell_type": "code",
   "execution_count": 22,
   "metadata": {},
   "outputs": [
    {
     "name": "stdout",
     "output_type": "stream",
     "text": [
      "WARNING:tensorflow:From C:\\Users\\Administrator\\Anaconda3\\envs\\tf\\lib\\site-packages\\tensorflow\\python\\ops\\math_ops.py:3066: to_int32 (from tensorflow.python.ops.math_ops) is deprecated and will be removed in a future version.\n",
      "Instructions for updating:\n",
      "Use tf.cast instead.\n",
      "---Predicted---\n",
      "[[[0.002 0.001]\n",
      "  [0.003 0.001]\n",
      "  [0.004 0.001]]\n",
      "\n",
      " [[0.002 0.001]\n",
      "  [0.003 0.001]\n",
      "  [0.004 0.001]]\n",
      "\n",
      " [[0.002 0.001]\n",
      "  [0.003 0.001]\n",
      "  [0.004 0.001]]\n",
      "\n",
      " [[0.002 0.001]\n",
      "  [0.003 0.001]\n",
      "  [0.004 0.001]]\n",
      "\n",
      " [[0.002 0.001]\n",
      "  [0.003 0.001]\n",
      "  [0.004 0.001]]]\n",
      "---Actual---\n",
      "[[[0.3   0.027]\n",
      "  [0.4   0.064]\n",
      "  [0.5   0.125]]\n",
      "\n",
      " [[0.4   0.064]\n",
      "  [0.5   0.125]\n",
      "  [0.6   0.216]]\n",
      "\n",
      " [[0.5   0.125]\n",
      "  [0.6   0.216]\n",
      "  [0.7   0.343]]\n",
      "\n",
      " [[0.6   0.216]\n",
      "  [0.7   0.343]\n",
      "  [0.8   0.512]]\n",
      "\n",
      " [[0.7   0.343]\n",
      "  [0.8   0.512]\n",
      "  [0.9   0.729]]]\n"
     ]
    }
   ],
   "source": [
    "model.fit(X, X, epochs=1, batch_size=5, verbose=0)\n",
    "# demonstrate reconstruction\n",
    "yhat = model.predict(X, verbose=0)\n",
    "print('---Predicted---')\n",
    "print(np.round(yhat,3))\n",
    "print('---Actual---')\n",
    "print(np.round(X, 3))"
   ]
  },
  {
   "cell_type": "markdown",
   "metadata": {},
   "source": [
    "# LSTM with Encoder Decoder "
   ]
  },
  {
   "cell_type": "code",
   "execution_count": 23,
   "metadata": {},
   "outputs": [
    {
     "name": "stdout",
     "output_type": "stream",
     "text": [
      "Model: \"sequential_2\"\n",
      "_________________________________________________________________\n",
      "Layer (type)                 Output Shape              Param #   \n",
      "=================================================================\n",
      "lstm_5 (LSTM)                (None, 3, 128)            67072     \n",
      "_________________________________________________________________\n",
      "lstm_6 (LSTM)                (None, 64)                49408     \n",
      "_________________________________________________________________\n",
      "repeat_vector_1 (RepeatVecto (None, 3, 64)             0         \n",
      "_________________________________________________________________\n",
      "lstm_7 (LSTM)                (None, 3, 64)             33024     \n",
      "_________________________________________________________________\n",
      "lstm_8 (LSTM)                (None, 3, 128)            98816     \n",
      "_________________________________________________________________\n",
      "time_distributed_2 (TimeDist (None, 3, 2)              258       \n",
      "=================================================================\n",
      "Total params: 248,578\n",
      "Trainable params: 248,578\n",
      "Non-trainable params: 0\n",
      "_________________________________________________________________\n"
     ]
    }
   ],
   "source": [
    "model1 = Sequential()\n",
    "model1.add(LSTM(128, activation='relu', input_shape=(timesteps,n_features), return_sequences=True))\n",
    "model1.add(LSTM(64, activation='relu', return_sequences=False))\n",
    "model1.add(RepeatVector(timesteps))\n",
    "model1.add(LSTM(64, activation='relu', return_sequences=True))\n",
    "model1.add(LSTM(128, activation='relu', return_sequences=True))\n",
    "model1.add(TimeDistributed(Dense(n_features)))\n",
    "model1.compile(optimizer='adam', loss='mse')\n",
    "model1.summary()"
   ]
  },
  {
   "cell_type": "code",
   "execution_count": 24,
   "metadata": {},
   "outputs": [
    {
     "name": "stdout",
     "output_type": "stream",
     "text": [
      "---Predicted---\n",
      "[[[0.002 0.001]\n",
      "  [0.003 0.001]\n",
      "  [0.004 0.001]]\n",
      "\n",
      " [[0.002 0.001]\n",
      "  [0.003 0.001]\n",
      "  [0.004 0.001]]\n",
      "\n",
      " [[0.002 0.001]\n",
      "  [0.003 0.001]\n",
      "  [0.004 0.001]]\n",
      "\n",
      " [[0.002 0.001]\n",
      "  [0.003 0.001]\n",
      "  [0.004 0.001]]\n",
      "\n",
      " [[0.002 0.001]\n",
      "  [0.003 0.001]\n",
      "  [0.004 0.001]]]\n",
      "---Actual---\n",
      "[[[0.3   0.027]\n",
      "  [0.4   0.064]\n",
      "  [0.5   0.125]]\n",
      "\n",
      " [[0.4   0.064]\n",
      "  [0.5   0.125]\n",
      "  [0.6   0.216]]\n",
      "\n",
      " [[0.5   0.125]\n",
      "  [0.6   0.216]\n",
      "  [0.7   0.343]]\n",
      "\n",
      " [[0.6   0.216]\n",
      "  [0.7   0.343]\n",
      "  [0.8   0.512]]\n",
      "\n",
      " [[0.7   0.343]\n",
      "  [0.8   0.512]\n",
      "  [0.9   0.729]]]\n"
     ]
    }
   ],
   "source": [
    "model1.fit(X, X, epochs=1, batch_size=5, verbose=0)\n",
    "# demonstrate reconstruction\n",
    "yhat = model.predict(X, verbose=0)\n",
    "print('---Predicted---')\n",
    "print(np.round(yhat,3))\n",
    "print('---Actual---')\n",
    "print(np.round(X, 3))"
   ]
  },
  {
   "cell_type": "code",
   "execution_count": null,
   "metadata": {},
   "outputs": [],
   "source": [
    "# Absence of this encoding vector differentiates the regular LSTM network for reconstruction from an LSTM Autoencoder"
   ]
  }
 ],
 "metadata": {
  "kernelspec": {
   "display_name": "Python 3",
   "language": "python",
   "name": "python3"
  },
  "language_info": {
   "codemirror_mode": {
    "name": "ipython",
    "version": 3
   },
   "file_extension": ".py",
   "mimetype": "text/x-python",
   "name": "python",
   "nbconvert_exporter": "python",
   "pygments_lexer": "ipython3",
   "version": "3.7.6"
  }
 },
 "nbformat": 4,
 "nbformat_minor": 4
}
